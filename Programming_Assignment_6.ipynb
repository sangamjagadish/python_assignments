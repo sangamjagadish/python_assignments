{
 "cells": [
  {
   "cell_type": "code",
   "execution_count": 18,
   "id": "42bf79bc",
   "metadata": {},
   "outputs": [
    {
     "name": "stdout",
     "output_type": "stream",
     "text": [
      "enter a positive number: 50\n"
     ]
    },
    {
     "data": {
      "text/plain": [
       "150"
      ]
     },
     "execution_count": 18,
     "metadata": {},
     "output_type": "execute_result"
    }
   ],
   "source": [
    "nth_term = int(input('enter a positive number: '))\n",
    "n1 = nth_term\n",
    "n2 = n1+nth_term\n",
    "def fibonacci_sequence():\n",
    "    for i in range(0, nth_term):\n",
    "        if nth_term == 1:\n",
    "            return n1\n",
    "        else:\n",
    "            return n1+n2\n",
    "fibonacci_sequence()\n",
    "        \n",
    "    "
   ]
  },
  {
   "cell_type": "code",
   "execution_count": 15,
   "id": "9b2c347c",
   "metadata": {},
   "outputs": [
    {
     "data": {
      "text/plain": [
       "120"
      ]
     },
     "execution_count": 15,
     "metadata": {},
     "output_type": "execute_result"
    }
   ],
   "source": [
    "def factorial(x):\n",
    "    if x == 1:\n",
    "        return 1\n",
    "    else:\n",
    "        return (x * factorial(x-1))\n",
    "factorial(5)\n"
   ]
  },
  {
   "cell_type": "code",
   "execution_count": 13,
   "id": "bb0fb3d4",
   "metadata": {},
   "outputs": [
    {
     "name": "stdout",
     "output_type": "stream",
     "text": [
      "your height, in meters: 1.8\n",
      "enter your weight in kilograms: 80\n",
      "your bmi is 24.691358024691358 and you are Normal weight\n"
     ]
    }
   ],
   "source": [
    "x=float(input('your height, in meters: '))\n",
    "y=float(input('enter your weight in kilograms: '))\n",
    "\n",
    "def bmi_calculator():\n",
    "    bmi = y/(x**2)\n",
    "    if bmi <= 18.5:\n",
    "        print(f'your bmi is {bmi} and you are Underweight')\n",
    "    elif 18.5<bmi<=24.9:\n",
    "        print(f'your bmi is {bmi} and you are Normal weight')\n",
    "    elif 25<bmi<=29.9:\n",
    "        print('your bmi is {} and you are overweight'.format(bmi))\n",
    "    else:\n",
    "        print('Obesity')\n",
    "bmi_calculator()"
   ]
  },
  {
   "cell_type": "code",
   "execution_count": 78,
   "id": "0e431238",
   "metadata": {},
   "outputs": [
    {
     "data": {
      "text/plain": [
       "2.302585092994046"
      ]
     },
     "execution_count": 78,
     "metadata": {},
     "output_type": "execute_result"
    }
   ],
   "source": [
    "import math\n",
    "math.log(10)\n",
    "#ln(x) = log(x) ÷ log(2.71828)"
   ]
  },
  {
   "cell_type": "code",
   "execution_count": 72,
   "id": "8fc08c6c",
   "metadata": {},
   "outputs": [
    {
     "data": {
      "text/plain": [
       "225"
      ]
     },
     "execution_count": 72,
     "metadata": {},
     "output_type": "execute_result"
    }
   ],
   "source": [
    "def cube_sum(n):\n",
    "    sum=0\n",
    "    for i in range(1,n+1):#n+1, so that the range will include n\n",
    "        sum+=i*i*i\n",
    "    return sum\n",
    "cube_sum(5)"
   ]
  }
 ],
 "metadata": {
  "kernelspec": {
   "display_name": "Python 3 (ipykernel)",
   "language": "python",
   "name": "python3"
  },
  "language_info": {
   "codemirror_mode": {
    "name": "ipython",
    "version": 3
   },
   "file_extension": ".py",
   "mimetype": "text/x-python",
   "name": "python",
   "nbconvert_exporter": "python",
   "pygments_lexer": "ipython3",
   "version": "3.9.7"
  }
 },
 "nbformat": 4,
 "nbformat_minor": 5
}
