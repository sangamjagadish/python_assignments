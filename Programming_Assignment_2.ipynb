{
 "cells": [
  {
   "cell_type": "code",
   "execution_count": 2,
   "id": "f74c46a5",
   "metadata": {},
   "outputs": [
    {
     "name": "stdout",
     "output_type": "stream",
     "text": [
      "enter distance kilomater: 15\n",
      "disatance in miles: 9.320565\n"
     ]
    }
   ],
   "source": [
    "x = float(input('enter distance kilomater: '))\n",
    "y = 0.621371*x\n",
    "print('disatance in miles:',y)"
   ]
  },
  {
   "cell_type": "code",
   "execution_count": 3,
   "id": "dd0528a1",
   "metadata": {},
   "outputs": [
    {
     "name": "stdout",
     "output_type": "stream",
     "text": [
      "enter temperature in celsius: 22\n",
      "temperature in fahrenheit 54.0\n"
     ]
    }
   ],
   "source": [
    "x = float(input('enter temperature in celsius: '))\n",
    "y = 32+x\n",
    "print('temperature in fahrenheit',y)"
   ]
  },
  {
   "cell_type": "code",
   "execution_count": 5,
   "id": "a172ff7c",
   "metadata": {},
   "outputs": [
    {
     "name": "stdout",
     "output_type": "stream",
     "text": [
      "value of x: 50\n",
      "value of y: 100\n"
     ]
    }
   ],
   "source": [
    "x=100\n",
    "y=50\n",
    "x,y=y,x\n",
    "print('value of x:',x)\n",
    "print('value of y:',y)"
   ]
  },
  {
   "cell_type": "code",
   "execution_count": 6,
   "id": "b2710281",
   "metadata": {},
   "outputs": [
    {
     "name": "stdout",
     "output_type": "stream",
     "text": [
      "Enter year: 2022\n",
      "Enter month: 05\n",
      "      May 2022\n",
      "Mo Tu We Th Fr Sa Su\n",
      "                   1\n",
      " 2  3  4  5  6  7  8\n",
      " 9 10 11 12 13 14 15\n",
      "16 17 18 19 20 21 22\n",
      "23 24 25 26 27 28 29\n",
      "30 31\n",
      "\n"
     ]
    }
   ],
   "source": [
    "import calendar\n",
    "yy = int(input(\"Enter year: \"))\n",
    "mm = int(input(\"Enter month: \"))\n",
    "print(calendar.month(yy,mm))\n"
   ]
  },
  {
   "cell_type": "code",
   "execution_count": 46,
   "id": "1ac11416",
   "metadata": {},
   "outputs": [
    {
     "name": "stdout",
     "output_type": "stream",
     "text": [
      "value of a: 5\n",
      "value of b: 6\n",
      "value of c: 7\n",
      "(-0.6+1.131370849898476j) (-0.6-1.131370849898476j)\n"
     ]
    }
   ],
   "source": [
    "import cmath\n",
    "a = float(input('value of a: '))\n",
    "b = float(input('value of b: '))\n",
    "c = float(input('value of c: '))\n",
    "d = (b*2)-(4*a*c)\n",
    "y1 = (-b+cmath.sqrt(d))/(2*a)\n",
    "y2 = (-b-cmath.sqrt(d))/(2*a)\n",
    "print(y1, y2)"
   ]
  }
 ],
 "metadata": {
  "kernelspec": {
   "display_name": "Python 3 (ipykernel)",
   "language": "python",
   "name": "python3"
  },
  "language_info": {
   "codemirror_mode": {
    "name": "ipython",
    "version": 3
   },
   "file_extension": ".py",
   "mimetype": "text/x-python",
   "name": "python",
   "nbconvert_exporter": "python",
   "pygments_lexer": "ipython3",
   "version": "3.9.7"
  }
 },
 "nbformat": 4,
 "nbformat_minor": 5
}
