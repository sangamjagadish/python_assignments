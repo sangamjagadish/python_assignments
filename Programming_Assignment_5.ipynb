{
 "cells": [
  {
   "cell_type": "code",
   "execution_count": 6,
   "id": "6c3718fd",
   "metadata": {},
   "outputs": [
    {
     "name": "stdout",
     "output_type": "stream",
     "text": [
      "enter a number: 8\n",
      "enter a number: 9\n",
      "lcm of x, y is 72\n"
     ]
    }
   ],
   "source": [
    "x = int(input('enter a number: '))\n",
    "y = int(input('enter a number: '))\n",
    "\n",
    "def compute_lcm(x, y):\n",
    "    if x > y:\n",
    "        greater = x\n",
    "    else:\n",
    "        greater = y\n",
    "\n",
    "    while(True):\n",
    "        if((greater % x == 0) and (greater % y == 0)):\n",
    "            lcm = greater\n",
    "            break\n",
    "        greater += 1\n",
    "\n",
    "    return lcm\n",
    "print('lcm of x, y is', compute_lcm(x,y))\n"
   ]
  },
  {
   "cell_type": "code",
   "execution_count": 7,
   "id": "8cab9ee1",
   "metadata": {},
   "outputs": [
    {
     "name": "stdout",
     "output_type": "stream",
     "text": [
      "enter a number: 8\n",
      "enter a number: 10\n",
      "The H.C.F. is 6\n"
     ]
    }
   ],
   "source": [
    "x = int(input('enter a number: '))\n",
    "y = int(input('enter a number: '))\n",
    "\n",
    "def compute_hcf(x, y):\n",
    "    if x > y:\n",
    "        smaller = y\n",
    "    else:\n",
    "        smaller = x\n",
    "    for i in range(1, smaller+1):\n",
    "        if((x % i == 0) and (y % i == 0)):\n",
    "            hcf = i \n",
    "    return hcf\n",
    "\n",
    "num1 = 54 \n",
    "num2 = 24\n",
    "\n",
    "print(\"The H.C.F. is\", compute_hcf(num1, num2))"
   ]
  },
  {
   "cell_type": "code",
   "execution_count": 11,
   "id": "30b7f851",
   "metadata": {},
   "outputs": [
    {
     "name": "stdout",
     "output_type": "stream",
     "text": [
      "enter a decimal number: 100\n",
      "0b1100100 0o144 0x64\n"
     ]
    }
   ],
   "source": [
    "x = int(input('enter a decimal number: '))\n",
    "a = bin(x)\n",
    "b = oct(x)\n",
    "c = hex(x)\n",
    "print(a,b,c)"
   ]
  },
  {
   "cell_type": "code",
   "execution_count": 35,
   "id": "e39e33ae",
   "metadata": {},
   "outputs": [
    {
     "data": {
      "text/plain": [
       "97"
      ]
     },
     "execution_count": 35,
     "metadata": {},
     "output_type": "execute_result"
    }
   ],
   "source": [
    "ord('a')"
   ]
  },
  {
   "cell_type": "code",
   "execution_count": 21,
   "id": "f3260606",
   "metadata": {},
   "outputs": [
    {
     "name": "stdout",
     "output_type": "stream",
     "text": [
      "enter a number: 15\n",
      "enter a number: 30\n",
      "45.0 -15.0 450.0 0.5\n"
     ]
    }
   ],
   "source": [
    "a= float(input('enter a number: '))\n",
    "b= float(input('enter a number: '))\n",
    "class Calculator:\n",
    "    def __init__(self,a,b):\n",
    "        self.a = a\n",
    "        self.b = b\n",
    "    def addition(self,*args):\n",
    "        return a+b \n",
    "    def substraction(self,*args):\n",
    "        return a-b\n",
    "    def multiplication(self,*args):\n",
    "        return a*b\n",
    "    def division(self,*args):\n",
    "        return a/b\n",
    "a1 = Calculator.addition(a,b,c,d)\n",
    "s1 = Calculator.substraction(a,b)\n",
    "m1 = Calculator.multiplication(a,b)\n",
    "d1 = Calculator.division(a,b)\n",
    "a1\n",
    "s1\n",
    "m1\n",
    "d1\n",
    "print(a1,s1,m1,d1)"
   ]
  }
 ],
 "metadata": {
  "kernelspec": {
   "display_name": "Python 3 (ipykernel)",
   "language": "python",
   "name": "python3"
  },
  "language_info": {
   "codemirror_mode": {
    "name": "ipython",
    "version": 3
   },
   "file_extension": ".py",
   "mimetype": "text/x-python",
   "name": "python",
   "nbconvert_exporter": "python",
   "pygments_lexer": "ipython3",
   "version": "3.9.7"
  }
 },
 "nbformat": 4,
 "nbformat_minor": 5
}
