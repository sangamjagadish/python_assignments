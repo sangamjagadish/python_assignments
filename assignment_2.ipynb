{
 "cells": [
  {
   "cell_type": "code",
   "execution_count": 2,
   "id": "cf8a8b65",
   "metadata": {},
   "outputs": [
    {
     "name": "stdout",
     "output_type": "stream",
     "text": [
      "5\n",
      "Greetings!\n"
     ]
    }
   ],
   "source": [
    "spam= int(input())\n",
    "if spam==1:\n",
    "    print('Hello')\n",
    "elif spam==2:\n",
    "    print('Howdy')\n",
    "else:\n",
    "    print('Greetings!')"
   ]
  },
  {
   "cell_type": "code",
   "execution_count": 5,
   "id": "4c2498bd",
   "metadata": {},
   "outputs": [
    {
     "name": "stdout",
     "output_type": "stream",
     "text": [
      "b\n",
      "r\n",
      "it's a break\n"
     ]
    }
   ],
   "source": [
    "for val in 'break': \n",
    "    if val=='e': \n",
    "        break \n",
    "    print(val) \n",
    "print('it\\'s a break')"
   ]
  },
  {
   "cell_type": "code",
   "execution_count": 6,
   "id": "81b855c3",
   "metadata": {},
   "outputs": [
    {
     "name": "stdout",
     "output_type": "stream",
     "text": [
      "c\n",
      "o\n",
      "n\n",
      "i\n",
      "n\n",
      "u\n",
      "e\n",
      "it's a continue\n"
     ]
    }
   ],
   "source": [
    "for val in 'continue':\n",
    "    if val=='t':\n",
    "        continue\n",
    "    print(val)\n",
    "print('it\\'s a continue')"
   ]
  },
  {
   "cell_type": "code",
   "execution_count": 7,
   "id": "882bcc5c",
   "metadata": {},
   "outputs": [
    {
     "name": "stdout",
     "output_type": "stream",
     "text": [
      "0123456789"
     ]
    }
   ],
   "source": [
    "x=range(10)\n",
    "for i in x:\n",
    "    print(i, end='')"
   ]
  },
  {
   "cell_type": "code",
   "execution_count": 8,
   "id": "8e68d7cf",
   "metadata": {},
   "outputs": [
    {
     "name": "stdout",
     "output_type": "stream",
     "text": [
      "0123456789"
     ]
    }
   ],
   "source": [
    "y=range(0,10)\n",
    "for i in x:\n",
    "    print(i, end='')"
   ]
  },
  {
   "cell_type": "code",
   "execution_count": 9,
   "id": "fe3d18f1",
   "metadata": {},
   "outputs": [
    {
     "name": "stdout",
     "output_type": "stream",
     "text": [
      "0123456789"
     ]
    }
   ],
   "source": [
    "z=range(0,10,1)\n",
    "for i in x:\n",
    "    print(i, end='')"
   ]
  },
  {
   "cell_type": "code",
   "execution_count": 10,
   "id": "c154e929",
   "metadata": {},
   "outputs": [
    {
     "name": "stdout",
     "output_type": "stream",
     "text": [
      "0123456789"
     ]
    }
   ],
   "source": [
    "num=0\n",
    "while 0<=num<10:\n",
    "    print(num, end='')\n",
    "    num=num+1"
   ]
  },
  {
   "cell_type": "code",
   "execution_count": 11,
   "id": "95416a6a",
   "metadata": {},
   "outputs": [
    {
     "name": "stdout",
     "output_type": "stream",
     "text": [
      "12345678910"
     ]
    }
   ],
   "source": [
    "num=1\n",
    "while 1<=num<11:\n",
    "    print(num, end='')\n",
    "    num=num+1"
   ]
  }
 ],
 "metadata": {
  "kernelspec": {
   "display_name": "Python 3 (ipykernel)",
   "language": "python",
   "name": "python3"
  },
  "language_info": {
   "codemirror_mode": {
    "name": "ipython",
    "version": 3
   },
   "file_extension": ".py",
   "mimetype": "text/x-python",
   "name": "python",
   "nbconvert_exporter": "python",
   "pygments_lexer": "ipython3",
   "version": "3.9.7"
  }
 },
 "nbformat": 4,
 "nbformat_minor": 5
}
